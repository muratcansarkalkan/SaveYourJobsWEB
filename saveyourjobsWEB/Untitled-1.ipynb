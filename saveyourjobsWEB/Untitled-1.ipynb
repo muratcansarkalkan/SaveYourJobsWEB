{
 "cells": [
  {
   "cell_type": "markdown",
   "metadata": {},
   "source": []
  },
  {
   "cell_type": "code",
   "execution_count": 6,
   "metadata": {},
   "outputs": [
    {
     "name": "stdout",
     "output_type": "stream",
     "text": [
      "['Front-End Software Engineer', 'Web UI Engineer (Early Career)', 'Front-end developer/website designer', 'Web UI Engineer', 'Software Engineer Frontend - LinkedIn Talent Solutions', 'UI Engineer', 'Software Engineer (front end)', 'Front-End Engineer (FEE), Amazon Ads', 'Software Engineer - Frontend (Flagship)', 'Software Engineer, Front-End', 'Web Engineer, Front End', 'Junior Web Developer', 'Web Engineer, Front End', 'Senior Software Engineer - Frontend ', 'Front End Software Engineer', 'Software Engineer - Frontend', 'Frontend Engineer - Podsights', 'Software Engineer - Front End', 'Software Engineer - Front End', 'Front End Software Engineer', 'Frontend Engineer', 'Sr Frontend Engineer', 'Frontend Software Engineer', 'Frontend Software Engineer', 'Front End Software Engineer']\n"
     ]
    }
   ],
   "source": [
    "import json\n",
    "\n",
    "data = json.load(open('json_data.json'))\n",
    "\n",
    "print([i[\"title\"] for i in data])"
   ]
  },
  {
   "cell_type": "code",
   "execution_count": 19,
   "metadata": {},
   "outputs": [
    {
     "name": "stdout",
     "output_type": "stream",
     "text": [
      "['Jr. Software Dev Engineer', 'Software Engineer - Cloud Services (Early Career/New Grad)', 'Software Engineer - Telecommute', 'Software Dev Engineer I', 'Software Engineering Internship Role', 'Jr. Software Developer', 'Software Dev Engineer I Intern', 'Software Dev Engineer I Intern', 'Software Dev Engineer I Intern', 'Software Dev Engineer', 'Associate Software Engineer', 'Jr. Software Developer, Alexa AI', 'Jr. Software Dev Engineer', 'Jr. Software Dev Engineer', 'Jr. Software Dev Engineer', 'Software Engineer', 'Software Engineer', 'Software Engineer', 'Software Dev Engineer I', 'Software Dev Engineer', 'Software Engineering Intern', 'Associate Software Engineer', 'Associate Software Engineer', 'Associate Software Engineer', 'Software Engineer, Fleet']\n"
     ]
    }
   ],
   "source": [
    "import os\n",
    "import json\n",
    "path = os.getcwd()\n",
    "f = (f'{os.path.abspath(os.path.join(path, os.pardir))}\\json_data.json')\n",
    "\n",
    "loader = json.load(open(f))\n",
    "title = ([i[\"title\"] for i in loader])\n",
    "\n",
    "print(title)"
   ]
  }
 ],
 "metadata": {
  "interpreter": {
   "hash": "8a48770bb3c76ada6ec5eec9b53a504a3323976b81e1d1b6d1fc077cb2f95093"
  },
  "kernelspec": {
   "display_name": "Python 3.10.1 64-bit",
   "language": "python",
   "name": "python3"
  },
  "language_info": {
   "codemirror_mode": {
    "name": "ipython",
    "version": 3
   },
   "file_extension": ".py",
   "mimetype": "text/x-python",
   "name": "python",
   "nbconvert_exporter": "python",
   "pygments_lexer": "ipython3",
   "version": "3.10.1"
  },
  "orig_nbformat": 4
 },
 "nbformat": 4,
 "nbformat_minor": 2
}
